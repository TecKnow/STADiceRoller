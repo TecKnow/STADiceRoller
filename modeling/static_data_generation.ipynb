{
 "cells": [
  {
   "cell_type": "code",
   "execution_count": 1,
   "metadata": {},
   "outputs": [],
   "source": [
    "import numpy as np\n",
    "import pandas as pd"
   ]
  },
  {
   "cell_type": "code",
   "execution_count": 2,
   "metadata": {},
   "outputs": [],
   "source": [
    "def cartesian_product(*choices : np.array) -> pd.DataFrame:\n",
    "    num_axis = len(choices)\n",
    "    return pd.DataFrame(np.copy(np.vstack(np.vstack(np.meshgrid(*choices))).reshape(num_axis, -1).T))\n"
   ]
  },
  {
   "cell_type": "code",
   "execution_count": 3,
   "metadata": {},
   "outputs": [],
   "source": [
    "def _cartesian_success_results(attribute: int, discipline: int, num_dice: int = 2, applicable_focus: bool = False) -> pd.DataFrame:\n",
    "    d20 = np.arange(1, 21)\n",
    "    tn = attribute + discipline\n",
    "    cartesian_df = cartesian_product(*[d20] * num_dice)\n",
    "    results_df = pd.DataFrame()\n",
    "    results_df[\"base_successes\"] = (cartesian_df <= tn).sum(axis=\"columns\")\n",
    "    results_df[\"critical_successes\"] = (cartesian_df == 1).sum(axis=\"columns\")\n",
    "    results_df[\"focus_successes\"] = (cartesian_df <= discipline ).sum(axis=\"columns\")\n",
    "    if applicable_focus:\n",
    "        results_df[\"successes\"] = results_df.loc[:, [\"base_successes\", \"focus_successes\"]].sum(axis=\"columns\")\n",
    "    else:\n",
    "        results_df[\"successes\"] = results_df.loc[:, [\"base_successes\", \"critical_successes\"]].sum(axis=\"columns\")\n",
    "    return results_df\n",
    "    "
   ]
  },
  {
   "cell_type": "code",
   "execution_count": 4,
   "metadata": {},
   "outputs": [],
   "source": [
    "def _create_success_probability_table(enumerated_results: pd.DataFrame, normalize: bool = True) -> pd.DataFrame:\n",
    "    prob_table_s = enumerated_results[\"successes\"].value_counts(normalize=normalize, sort=False).sort_index(ascending=False).rename(\"exact successes\")\n",
    "    cum_prob_s = prob_table_s.cumsum().rename(\"cumulative successes\")\n",
    "    tab_df = pd.concat([prob_table_s, cum_prob_s], axis=1,).fillna(0).astype(prob_table_s.dtype)\n",
    "    return tab_df"
   ]
  },
  {
   "cell_type": "code",
   "execution_count": 5,
   "metadata": {},
   "outputs": [],
   "source": [
    "def success_prob_table(attribute: int, discipline: int, num_dice: int = 2, applicable_focus: bool = False, normalize: bool = True) -> pd.DataFrame:\n",
    "    cr_df = _cartesian_success_results(attribute=attribute, discipline=discipline, num_dice=num_dice, applicable_focus=applicable_focus)\n",
    "    p_table = _create_success_probability_table(cr_df, normalize=normalize)\n",
    "    return p_table"
   ]
  },
  {
   "cell_type": "code",
   "execution_count": 6,
   "metadata": {},
   "outputs": [],
   "source": [
    "def generate_success_frequency_map(\n",
    "    attribute_min: int = 7,\n",
    "    attribute_max: int = 12,\n",
    "    discipline_min: int = 0,\n",
    "    discipline_max: int = 5,\n",
    "    dice_min: int = 1,\n",
    "    dice_max: int = 5\n",
    "    ):\n",
    "    from itertools import product, chain\n",
    "\n",
    "    attribute_range = range(attribute_min, attribute_max+1)\n",
    "    discipline_range = range(discipline_min, discipline_max+1)\n",
    "    target_range = range(attribute_min + discipline_min, attribute_max + discipline_max + 1)\n",
    "    dice_range = range(dice_min, dice_max+1)\n",
    "\n",
    "    no_focus_index = product(dice_range, [False], target_range, [0])\n",
    "    focus_index = product(dice_range, [True], attribute_range, discipline_range)\n",
    "    index_entries = chain(no_focus_index, focus_index)\n",
    "\n",
    "    frequency_table_map = dict()\n",
    "    for index_entry in index_entries:\n",
    "        num_die, focus, attribute, discipline = index_entry\n",
    "        freq_table = success_prob_table(attribute, discipline, num_die, focus, False)\n",
    "        freq_table = freq_table[\"exact successes\"].sort_index().to_list()\n",
    "        if focus:\n",
    "            frequency_table_map.setdefault(num_die, dict()).setdefault(focus, dict()).setdefault(attribute, dict())[discipline] = freq_table\n",
    "        else:\n",
    "            frequency_table_map.setdefault(num_die, dict()).setdefault(focus, dict())[attribute] = freq_table\n",
    "    return frequency_table_map\n",
    "\n"
   ]
  },
  {
   "cell_type": "code",
   "execution_count": 7,
   "metadata": {},
   "outputs": [],
   "source": [
    "def _cartesian_complications_results(num_dice: int = 2, complications_range_min: int = 1, complications_range_max: int = 5):\n",
    "    d20 = np.arange(1, 21)\n",
    "    cartesian_df = cartesian_product(*[d20] * num_dice)\n",
    "    complications = range(complications_range_min, complications_range_max+1)\n",
    "    res = pd.DataFrame()\n",
    "    for complications_range in complications:\n",
    "        res[f\"{complications_range}\"] = (cartesian_df > (20-complications_range)).sum(axis=\"columns\")\n",
    "    res.columns.name=\"complications_range\"\n",
    "    return res\n"
   ]
  },
  {
   "cell_type": "code",
   "execution_count": 8,
   "metadata": {},
   "outputs": [],
   "source": [
    "def _create_complications_probability_table(enumerated_results: pd.DataFrame, normalize: bool = True) -> pd.DataFrame:\n",
    "   value_series = [enumerated_results[col_name].value_counts(sort=False, normalize=normalize).sort_index() for col_name in enumerated_results]\n",
    "   res = pd.concat(value_series, axis=\"columns\").fillna(0).astype(value_series[0].dtype)\n",
    "   return res"
   ]
  },
  {
   "cell_type": "code",
   "execution_count": 9,
   "metadata": {},
   "outputs": [],
   "source": [
    "def complications_probability_table(num_dice: int = 2, complications_range_min: int = 1, complications_range_max: int = 5, normalize=True):\n",
    "    ccr_df = _cartesian_complications_results(num_dice=num_dice, complications_range_min=complications_range_min, complications_range_max=complications_range_max)\n",
    "    p_table = _create_complications_probability_table(ccr_df, normalize=normalize)\n",
    "    return p_table"
   ]
  },
  {
   "cell_type": "code",
   "execution_count": 10,
   "metadata": {},
   "outputs": [],
   "source": [
    "def generate_complications_frequency_map(\n",
    "    complications_range_min: int = 1,\n",
    "    complications_range_max: int = 5,\n",
    "    dice_min: int = 1,\n",
    "    dice_max: int = 5,\n",
    "):\n",
    "    res = dict()\n",
    "    for dice in range(dice_min, dice_max+1):\n",
    "        for column_name in (f_table:=complications_probability_table(num_dice=dice, complications_range_min=complications_range_min, complications_range_max=complications_range_max, normalize=False)):\n",
    "            res.setdefault(dice, dict())[column_name] = f_table[column_name].sort_index().to_list()\n",
    "    return res\n",
    "\n",
    "\n",
    "    "
   ]
  },
  {
   "cell_type": "code",
   "execution_count": 11,
   "metadata": {},
   "outputs": [],
   "source": [
    "def generate_static_files():\n",
    "    import json\n",
    "\n",
    "    json.dump(generate_success_frequency_map(), open(\"../sta-dice-roller/static-data/successes.json\", \"w\"))\n",
    "    json.dump(generate_complications_frequency_map(), open(\"../sta-dice-roller/static-data/complications.json\", \"w\"))"
   ]
  },
  {
   "cell_type": "code",
   "execution_count": 12,
   "metadata": {},
   "outputs": [
    {
     "data": {
      "text/html": [
       "<div>\n",
       "<style scoped>\n",
       "    .dataframe tbody tr th:only-of-type {\n",
       "        vertical-align: middle;\n",
       "    }\n",
       "\n",
       "    .dataframe tbody tr th {\n",
       "        vertical-align: top;\n",
       "    }\n",
       "\n",
       "    .dataframe thead th {\n",
       "        text-align: right;\n",
       "    }\n",
       "</style>\n",
       "<table border=\"1\" class=\"dataframe\">\n",
       "  <thead>\n",
       "    <tr style=\"text-align: right;\">\n",
       "      <th></th>\n",
       "      <th>exact successes</th>\n",
       "      <th>cumulative successes</th>\n",
       "    </tr>\n",
       "  </thead>\n",
       "  <tbody>\n",
       "    <tr>\n",
       "      <th>5</th>\n",
       "      <td>248832</td>\n",
       "      <td>248832</td>\n",
       "    </tr>\n",
       "    <tr>\n",
       "      <th>4</th>\n",
       "      <td>829440</td>\n",
       "      <td>1078272</td>\n",
       "    </tr>\n",
       "    <tr>\n",
       "      <th>3</th>\n",
       "      <td>1105920</td>\n",
       "      <td>2184192</td>\n",
       "    </tr>\n",
       "    <tr>\n",
       "      <th>2</th>\n",
       "      <td>737280</td>\n",
       "      <td>2921472</td>\n",
       "    </tr>\n",
       "    <tr>\n",
       "      <th>1</th>\n",
       "      <td>245760</td>\n",
       "      <td>3167232</td>\n",
       "    </tr>\n",
       "    <tr>\n",
       "      <th>0</th>\n",
       "      <td>32768</td>\n",
       "      <td>3200000</td>\n",
       "    </tr>\n",
       "  </tbody>\n",
       "</table>\n",
       "</div>"
      ],
      "text/plain": [
       "   exact successes  cumulative successes\n",
       "5           248832                248832\n",
       "4           829440               1078272\n",
       "3          1105920               2184192\n",
       "2           737280               2921472\n",
       "1           245760               3167232\n",
       "0            32768               3200000"
      ]
     },
     "execution_count": 12,
     "metadata": {},
     "output_type": "execute_result"
    }
   ],
   "source": [
    "success_prob_table(12, 0, 5, True, False)"
   ]
  }
 ],
 "metadata": {
  "kernelspec": {
   "display_name": "venv",
   "language": "python",
   "name": "python3"
  },
  "language_info": {
   "codemirror_mode": {
    "name": "ipython",
    "version": 3
   },
   "file_extension": ".py",
   "mimetype": "text/x-python",
   "name": "python",
   "nbconvert_exporter": "python",
   "pygments_lexer": "ipython3",
   "version": "3.10.6"
  },
  "orig_nbformat": 4
 },
 "nbformat": 4,
 "nbformat_minor": 2
}
