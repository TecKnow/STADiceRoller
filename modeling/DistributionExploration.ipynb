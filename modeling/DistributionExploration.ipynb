{
 "cells": [
  {
   "cell_type": "code",
   "execution_count": 29,
   "metadata": {},
   "outputs": [],
   "source": [
    "import numpy as np\n",
    "import pandas as pd\n",
    "import matplotlib.pyplot as plt"
   ]
  },
  {
   "cell_type": "code",
   "execution_count": 30,
   "metadata": {},
   "outputs": [],
   "source": [
    "def cartesian_product(*choices : np.array) -> pd.DataFrame:\n",
    "    num_axis = len(choices)\n",
    "    return pd.DataFrame(np.copy(np.vstack(np.vstack(np.meshgrid(*choices))).reshape(num_axis, -1).T))\n"
   ]
  },
  {
   "cell_type": "code",
   "execution_count": 31,
   "metadata": {},
   "outputs": [],
   "source": [
    "def _cartesian_results(attribute: int, discipline: int, num_dice: int = 2, applicable_focus: bool = False) -> pd.DataFrame:\n",
    "    d20 = np.arange(1, 21)\n",
    "    dc = attribute + discipline\n",
    "    cartesian_df = cartesian_product(*[d20] * num_dice)\n",
    "    results_df = pd.DataFrame()\n",
    "    results_df[\"base_successes\"] = (cartesian_df <= dc).sum(axis=\"columns\")\n",
    "    results_df[\"critical_successes\"] = (cartesian_df == 1).sum(axis=\"columns\")\n",
    "    results_df[\"focus_successes\"] = (cartesian_df <= discipline ).sum(axis=\"columns\")\n",
    "    if applicable_focus:\n",
    "        results_df[\"successes\"] = results_df.loc[:, [\"base_successes\", \"focus_successes\"]].sum(axis=\"columns\")\n",
    "    else:\n",
    "        results_df[\"successes\"] = results_df.loc[:, [\"base_successes\", \"critical_successes\"]].sum(axis=\"columns\")\n",
    "    return results_df\n",
    "    "
   ]
  },
  {
   "cell_type": "code",
   "execution_count": 32,
   "metadata": {},
   "outputs": [],
   "source": [
    "def _create_probability_table(enumerated_results: pd.DataFrame) -> pd.DataFrame:\n",
    "    prob_table_s = enumerated_results[\"successes\"].value_counts(normalize=True, sort=False).sort_index(ascending=False).rename(\"exact\")\n",
    "    cum_prob_s = prob_table_s.cumsum().rename(\"cumulative\")\n",
    "    tab_df = pd.concat([prob_table_s, cum_prob_s], axis=1)\n",
    "    return tab_df"
   ]
  },
  {
   "cell_type": "code",
   "execution_count": 33,
   "metadata": {},
   "outputs": [],
   "source": [
    "def roll_prob_table(attribute: int, discipline: int, num_dice: int = 2, applicable_focus: bool = False) -> pd.DataFrame:\n",
    "    cr_df = _cartesian_results(attribute=attribute, discipline=discipline, num_dice=num_dice, applicable_focus=applicable_focus)\n",
    "    p_table = _create_probability_table(cr_df)\n",
    "    return p_table"
   ]
  },
  {
   "cell_type": "code",
   "execution_count": 34,
   "metadata": {},
   "outputs": [
    {
     "data": {
      "text/html": [
       "<div>\n",
       "<style scoped>\n",
       "    .dataframe tbody tr th:only-of-type {\n",
       "        vertical-align: middle;\n",
       "    }\n",
       "\n",
       "    .dataframe tbody tr th {\n",
       "        vertical-align: top;\n",
       "    }\n",
       "\n",
       "    .dataframe thead th {\n",
       "        text-align: right;\n",
       "    }\n",
       "</style>\n",
       "<table border=\"1\" class=\"dataframe\">\n",
       "  <thead>\n",
       "    <tr style=\"text-align: right;\">\n",
       "      <th></th>\n",
       "      <th>exact</th>\n",
       "      <th>cumulative</th>\n",
       "    </tr>\n",
       "  </thead>\n",
       "  <tbody>\n",
       "    <tr>\n",
       "      <th>4</th>\n",
       "      <td>0.0025</td>\n",
       "      <td>0.0025</td>\n",
       "    </tr>\n",
       "    <tr>\n",
       "      <th>3</th>\n",
       "      <td>0.0550</td>\n",
       "      <td>0.0575</td>\n",
       "    </tr>\n",
       "    <tr>\n",
       "      <th>2</th>\n",
       "      <td>0.3425</td>\n",
       "      <td>0.4000</td>\n",
       "    </tr>\n",
       "    <tr>\n",
       "      <th>1</th>\n",
       "      <td>0.4400</td>\n",
       "      <td>0.8400</td>\n",
       "    </tr>\n",
       "    <tr>\n",
       "      <th>0</th>\n",
       "      <td>0.1600</td>\n",
       "      <td>1.0000</td>\n",
       "    </tr>\n",
       "  </tbody>\n",
       "</table>\n",
       "</div>"
      ],
      "text/plain": [
       "    exact  cumulative\n",
       "4  0.0025      0.0025\n",
       "3  0.0550      0.0575\n",
       "2  0.3425      0.4000\n",
       "1  0.4400      0.8400\n",
       "0  0.1600      1.0000"
      ]
     },
     "metadata": {},
     "output_type": "display_data"
    },
    {
     "data": {
      "text/html": [
       "<div>\n",
       "<style scoped>\n",
       "    .dataframe tbody tr th:only-of-type {\n",
       "        vertical-align: middle;\n",
       "    }\n",
       "\n",
       "    .dataframe tbody tr th {\n",
       "        vertical-align: top;\n",
       "    }\n",
       "\n",
       "    .dataframe thead th {\n",
       "        text-align: right;\n",
       "    }\n",
       "</style>\n",
       "<table border=\"1\" class=\"dataframe\">\n",
       "  <thead>\n",
       "    <tr style=\"text-align: right;\">\n",
       "      <th></th>\n",
       "      <th>exact</th>\n",
       "      <th>cumulative</th>\n",
       "    </tr>\n",
       "  </thead>\n",
       "  <tbody>\n",
       "    <tr>\n",
       "      <th>4</th>\n",
       "      <td>0.1225</td>\n",
       "      <td>0.1225</td>\n",
       "    </tr>\n",
       "    <tr>\n",
       "      <th>3</th>\n",
       "      <td>0.1750</td>\n",
       "      <td>0.2975</td>\n",
       "    </tr>\n",
       "    <tr>\n",
       "      <th>2</th>\n",
       "      <td>0.3425</td>\n",
       "      <td>0.6400</td>\n",
       "    </tr>\n",
       "    <tr>\n",
       "      <th>1</th>\n",
       "      <td>0.2000</td>\n",
       "      <td>0.8400</td>\n",
       "    </tr>\n",
       "    <tr>\n",
       "      <th>0</th>\n",
       "      <td>0.1600</td>\n",
       "      <td>1.0000</td>\n",
       "    </tr>\n",
       "  </tbody>\n",
       "</table>\n",
       "</div>"
      ],
      "text/plain": [
       "    exact  cumulative\n",
       "4  0.1225      0.1225\n",
       "3  0.1750      0.2975\n",
       "2  0.3425      0.6400\n",
       "1  0.2000      0.8400\n",
       "0  0.1600      1.0000"
      ]
     },
     "metadata": {},
     "output_type": "display_data"
    },
    {
     "data": {
      "text/html": [
       "<div>\n",
       "<style scoped>\n",
       "    .dataframe tbody tr th:only-of-type {\n",
       "        vertical-align: middle;\n",
       "    }\n",
       "\n",
       "    .dataframe tbody tr th {\n",
       "        vertical-align: top;\n",
       "    }\n",
       "\n",
       "    .dataframe thead th {\n",
       "        text-align: right;\n",
       "    }\n",
       "</style>\n",
       "<table border=\"1\" class=\"dataframe\">\n",
       "  <thead>\n",
       "    <tr style=\"text-align: right;\">\n",
       "      <th></th>\n",
       "      <th>exact</th>\n",
       "      <th>cumulative</th>\n",
       "    </tr>\n",
       "  </thead>\n",
       "  <tbody>\n",
       "    <tr>\n",
       "      <th>10</th>\n",
       "      <td>3.125000e-07</td>\n",
       "      <td>3.125000e-07</td>\n",
       "    </tr>\n",
       "    <tr>\n",
       "      <th>9</th>\n",
       "      <td>1.718750e-05</td>\n",
       "      <td>1.750000e-05</td>\n",
       "    </tr>\n",
       "    <tr>\n",
       "      <th>8</th>\n",
       "      <td>3.906250e-04</td>\n",
       "      <td>4.081250e-04</td>\n",
       "    </tr>\n",
       "    <tr>\n",
       "      <th>7</th>\n",
       "      <td>4.709375e-03</td>\n",
       "      <td>5.117500e-03</td>\n",
       "    </tr>\n",
       "    <tr>\n",
       "      <th>6</th>\n",
       "      <td>3.215156e-02</td>\n",
       "      <td>3.726906e-02</td>\n",
       "    </tr>\n",
       "    <tr>\n",
       "      <th>5</th>\n",
       "      <td>1.234784e-01</td>\n",
       "      <td>1.607475e-01</td>\n",
       "    </tr>\n",
       "    <tr>\n",
       "      <th>4</th>\n",
       "      <td>2.572125e-01</td>\n",
       "      <td>4.179600e-01</td>\n",
       "    </tr>\n",
       "    <tr>\n",
       "      <th>3</th>\n",
       "      <td>3.014000e-01</td>\n",
       "      <td>7.193600e-01</td>\n",
       "    </tr>\n",
       "    <tr>\n",
       "      <th>2</th>\n",
       "      <td>2.000000e-01</td>\n",
       "      <td>9.193600e-01</td>\n",
       "    </tr>\n",
       "    <tr>\n",
       "      <th>1</th>\n",
       "      <td>7.040000e-02</td>\n",
       "      <td>9.897600e-01</td>\n",
       "    </tr>\n",
       "    <tr>\n",
       "      <th>0</th>\n",
       "      <td>1.024000e-02</td>\n",
       "      <td>1.000000e+00</td>\n",
       "    </tr>\n",
       "  </tbody>\n",
       "</table>\n",
       "</div>"
      ],
      "text/plain": [
       "           exact    cumulative\n",
       "10  3.125000e-07  3.125000e-07\n",
       "9   1.718750e-05  1.750000e-05\n",
       "8   3.906250e-04  4.081250e-04\n",
       "7   4.709375e-03  5.117500e-03\n",
       "6   3.215156e-02  3.726906e-02\n",
       "5   1.234784e-01  1.607475e-01\n",
       "4   2.572125e-01  4.179600e-01\n",
       "3   3.014000e-01  7.193600e-01\n",
       "2   2.000000e-01  9.193600e-01\n",
       "1   7.040000e-02  9.897600e-01\n",
       "0   1.024000e-02  1.000000e+00"
      ]
     },
     "metadata": {},
     "output_type": "display_data"
    }
   ],
   "source": [
    "roll_5_7_2_F = roll_prob_table(5, 7, num_dice=2, applicable_focus=False)\n",
    "display(roll_5_7_2_F)\n",
    "roll_5_7_2_T = roll_prob_table(5, 7, num_dice=2, applicable_focus=True)\n",
    "display(roll_5_7_2_T)\n",
    "display(roll_prob_table(5, 7, 5, False))\n",
    "\n"
   ]
  },
  {
   "cell_type": "code",
   "execution_count": 35,
   "metadata": {},
   "outputs": [
    {
     "data": {
      "image/png": "[encoded data removed]",
      "text/plain": [
       "<Figure size 640x480 with 1 Axes>"
      ]
     },
     "metadata": {},
     "output_type": "display_data"
    }
   ],
   "source": [
    "fig, ax = plt.subplots(1,1)\n",
    "ax.plot(roll_5_7_2_F[\"cumulative\"], marker=\".\", label=\"No Focus\", )\n",
    "ax.plot(roll_5_7_2_T[\"cumulative\"], marker=\".\", label=\"Focus\",)\n",
    "ax.set_xticks(roll_5_7_2_F.index)\n",
    "ax.set_yticks(np.linspace(0, 1, 11))\n",
    "ax.legend()\n",
    "ax .grid(True)\n",
    "plt.show()"
   ]
  }
 ],
 "metadata": {
  "kernelspec": {
   "display_name": "venv",
   "language": "python",
   "name": "python3"
  },
  "language_info": {
   "codemirror_mode": {
    "name": "ipython",
    "version": 3
   },
   "file_extension": ".py",
   "mimetype": "text/x-python",
   "name": "python",
   "nbconvert_exporter": "python",
   "pygments_lexer": "ipython3",
   "version": "3.10.6"
  },
  "orig_nbformat": 4
 },
 "nbformat": 4,
 "nbformat_minor": 2
}
